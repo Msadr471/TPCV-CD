{
 "cells": [
  {
   "cell_type": "code",
   "execution_count": 5,
   "metadata": {},
   "outputs": [
    {
     "name": "stdout",
     "output_type": "stream",
     "text": [
      "✅ Forward pass OK\n",
      "Test shape: torch.Size([1, 3, 256, 256])\n",
      "Ref shape: torch.Size([1, 3, 256, 256])\n",
      "Output shape: torch.Size([1, 1, 256, 256])\n",
      "Total Parameters: 285,803\n",
      "[INFO] Register count_convNd() for <class 'torch.nn.modules.conv.Conv2d'>.\n",
      "[INFO] Register count_normalization() for <class 'torch.nn.modules.instancenorm.InstanceNorm2d'>.\n",
      "[INFO] Register count_normalization() for <class 'torch.nn.modules.batchnorm.BatchNorm2d'>.\n",
      "[INFO] Register count_adap_avgpool() for <class 'torch.nn.modules.pooling.AdaptiveAvgPool2d'>.\n",
      "[INFO] Register zero_ops() for <class 'torch.nn.modules.container.Sequential'>.\n",
      "[INFO] Register count_prelu() for <class 'torch.nn.modules.activation.PReLU'>.\n",
      "[INFO] Register count_upsample() for <class 'torch.nn.modules.upsampling.Upsample'>.\n",
      "FLOPs: 1.633G\n",
      "THOP Params: 285.803K\n"
     ]
    }
   ],
   "source": [
    "import torch\n",
    "from thop import profile, clever_format\n",
    "from models.change_classifier import ChangeClassifier\n",
    "\n",
    "# Dummy input\n",
    "ref = torch.randn(1, 3, 256, 256)\n",
    "test = torch.randn(1, 3, 256, 256)\n",
    "\n",
    "# Model init\n",
    "model = ChangeClassifier(\n",
    "    bkbn_name=\"efficientnet_b4\",\n",
    "    weights=None,\n",
    "    output_layer_bkbn=\"3\",\n",
    "    freeze_backbone=False\n",
    ")\n",
    "\n",
    "model.eval()\n",
    "\n",
    "# Forward pass test\n",
    "with torch.no_grad():\n",
    "    out = model(ref, test)\n",
    "\n",
    "print(\"✅ Forward pass OK\")\n",
    "print(\"Test shape:\", test.shape)\n",
    "print(\"Ref shape:\", ref.shape)\n",
    "\n",
    "print(\"Output shape:\", out.shape)\n",
    "\n",
    "# Params count\n",
    "total_params = sum(p.numel() for p in model.parameters())\n",
    "print(f\"Total Parameters: {total_params:,}\")\n",
    "\n",
    "# FLOPs + MACs\n",
    "flops, params = profile(model, inputs=(ref, test))\n",
    "flops, params = clever_format([flops, params], \"%.3f\")\n",
    "print(f\"FLOPs: {flops}\")\n",
    "print(f\"THOP Params: {params}\")\n"
   ]
  }
 ],
 "metadata": {
  "kernelspec": {
   "display_name": "Python 3",
   "language": "python",
   "name": "python3"
  },
  "language_info": {
   "codemirror_mode": {
    "name": "ipython",
    "version": 3
   },
   "file_extension": ".py",
   "mimetype": "text/x-python",
   "name": "python",
   "nbconvert_exporter": "python",
   "pygments_lexer": "ipython3",
   "version": "3.11.9"
  }
 },
 "nbformat": 4,
 "nbformat_minor": 2
}
