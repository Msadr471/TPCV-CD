{
 "cells": [
  {
   "cell_type": "code",
   "execution_count": null,
   "metadata": {
    "id": "edvpXxdHW2Wd"
   },
   "outputs": [],
   "source": [
    "%cd /content/\n",
    "!rm -rf TPCV-CD\n",
    "!rm -rf chekpoint\n",
    "!git clone https://github.com/Msadr471/TPCV-CD\n",
    "!rm -r /content/Data/WHU\n",
    "!chmod +x /content/TPCV-CD/req.sh\n",
    "!bash /content/TPCV-CD/req.sh\n",
    "%cd /content/TPCV-CD\n",
    "!rm -rf /content/chekpoint\n",
    "!mkdir /content/chekpoint\n",
    "!pwd"
   ]
  },
  {
   "cell_type": "code",
   "execution_count": null,
   "metadata": {
    "id": "vNtFoqw9q24f"
   },
   "outputs": [],
   "source": [
    "%cd /content/\n",
    "!rm -rf TPCV-CD\n",
    "!git clone https://github.com/Msadr471/TPCV-CD\n",
    "%cd /content/TPCV-CD\n",
    "!pwd"
   ]
  },
  {
   "cell_type": "code",
   "execution_count": 13,
   "metadata": {
    "executionInfo": {
     "elapsed": 348,
     "status": "ok",
     "timestamp": 1751637505761,
     "user": {
      "displayName": "Mohammad Sadr (Mamad)",
      "userId": "05386206111069143696"
     },
     "user_tz": -210
    },
    "id": "03yuGlBfrvYn"
   },
   "outputs": [],
   "source": [
    "!rm -rf /content/chekpoint\n",
    "!mkdir /content/chekpoint"
   ]
  },
  {
   "cell_type": "code",
   "execution_count": null,
   "metadata": {
    "id": "FccfWYDGnboe"
   },
   "outputs": [],
   "source": [
    "!python training.py --datapath \"/content/Data/WHU-CD-256/WHU-CD-256\" --log-path \"/content/chekpoint\""
   ]
  },
  {
   "cell_type": "code",
   "execution_count": null,
   "metadata": {},
   "outputs": [],
   "source": [
    "!cp \"/content/drive/MyDrive/GoogleColabDrive/RSCD/TPCV-CD-pth/model_16.pth\" /content/chekpoint"
   ]
  },
  {
   "cell_type": "code",
   "execution_count": null,
   "metadata": {},
   "outputs": [],
   "source": [
    "!python test_ondata.py --datapath \"/content/Data/WHU-CD-256/WHU-CD-256\" --modelpath \"/content/TPCV-CD/pretrained_models/model_50.pth\""
   ]
  },
  {
   "cell_type": "code",
   "execution_count": null,
   "metadata": {},
   "outputs": [],
   "source": [
    "!python loss_landscape_plot.py \\\n",
    "  --datapath \"/content/Data/WHU-CD-256/WHU-CD-256\" \\\n",
    "  --modelpath \"/content/TPCV-CD/pretrained_models/model_50.pth\" \\\n",
    "  --steps 32 \\\n",
    "  --radius 5 \\\n",
    "  --subset_size 160 \\\n",
    "  --batch_size 160"
   ]
  }
 ],
 "metadata": {
  "accelerator": "GPU",
  "colab": {
   "authorship_tag": "ABX9TyMO2aqFJ+o3CwW1kSssM2hg",
   "gpuType": "T4",
   "mount_file_id": "1kYotvqo0TW1CzQphC6gd9ZFYsu7jfOZe",
   "provenance": []
  },
  "kernelspec": {
   "display_name": "Python 3",
   "name": "python3"
  },
  "language_info": {
   "name": "python"
  }
 },
 "nbformat": 4,
 "nbformat_minor": 0
}
