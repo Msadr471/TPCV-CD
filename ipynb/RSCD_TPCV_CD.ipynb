{
  "cells": [
    {
      "cell_type": "markdown",
      "source": [
        "# GIT"
      ],
      "metadata": {
        "id": "uok9oZ7imghW"
      }
    },
    {
      "cell_type": "code",
      "execution_count": null,
      "metadata": {
        "id": "edvpXxdHW2Wd"
      },
      "outputs": [],
      "source": [
        "%cd \"/content/\"\n",
        "!rm -rf \"TPCV-CD\"\n",
        "!rm -rf \"chekpoint\"\n",
        "!git clone https://github.com/Msadr471/TPCV-CD\n",
        "!rm -r \"/content/Data/Dataset\"\n",
        "!chmod +x \"/content/TPCV-CD/req.sh\"\n",
        "!bash \"/content/TPCV-CD/req.sh\"\n",
        "%cd \"/content/TPCV-CD\"\n",
        "!rm -rf \"/content/chekpoint\"\n",
        "!mkdir \"/content/chekpoint\"\n",
        "!pwd"
      ]
    },
    {
      "cell_type": "code",
      "source": [
        "%cd /content/\n",
        "!rm -rf TPCV-CD\n",
        "!git clone https://github.com/Msadr471/TPCV-CD\n",
        "%cd /content/TPCV-CD\n",
        "!pwd"
      ],
      "metadata": {
        "id": "vNtFoqw9q24f"
      },
      "execution_count": null,
      "outputs": []
    },
    {
      "cell_type": "code",
      "source": [
        "!rm -rf /content/chekpoint\n",
        "!mkdir /content/chekpoint"
      ],
      "metadata": {
        "id": "03yuGlBfrvYn"
      },
      "execution_count": null,
      "outputs": []
    },
    {
      "cell_type": "markdown",
      "source": [
        "# RUN"
      ],
      "metadata": {
        "id": "dPd8SRTumiR7"
      }
    },
    {
      "cell_type": "code",
      "source": [
        "!python training.py --datapath \"/content/Data/Dataset\" --log-path \"/content/chekpoint\""
      ],
      "metadata": {
        "id": "FccfWYDGnboe"
      },
      "execution_count": null,
      "outputs": []
    },
    {
      "cell_type": "code",
      "source": [
        "!cp \"/content/drive/MyDrive/GoogleColabDrive/RSCD/TPCV-CD-pth/model_47.pth\" /content/chekpoint"
      ],
      "metadata": {
        "id": "BIc1i9VA6DLB"
      },
      "execution_count": null,
      "outputs": []
    },
    {
      "cell_type": "code",
      "source": [
        "!python test_ondata.py --datapath \"/content/Data/Dataset\" --modelpath \"/content/chekpoint/model_47.pth\""
      ],
      "metadata": {
        "id": "uFoZyYin5DvX"
      },
      "execution_count": null,
      "outputs": []
    },
    {
      "cell_type": "code",
      "source": [
        "!python loss_landscape_plot.py \\\n",
        "  --datapath \"/content/Data/Dataset\" \\\n",
        "  --modelpath \"/content/TPCV-CD/pretrained_models/model_50.pth\" \\\n",
        "  --steps 32 \\\n",
        "  --radius 5 \\\n",
        "  --subset_size 160 \\\n",
        "  --batch_size 160"
      ],
      "metadata": {
        "id": "Ik1J2dKwhI7b"
      },
      "execution_count": null,
      "outputs": []
    }
  ],
  "metadata": {
    "colab": {
      "provenance": []
    },
    "kernelspec": {
      "display_name": "Python 3",
      "name": "python3"
    },
    "language_info": {
      "name": "python"
    }
  },
  "nbformat": 4,
  "nbformat_minor": 0
}