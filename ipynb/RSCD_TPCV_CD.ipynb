{
  "cells": [
    {
      "cell_type": "markdown",
      "source": [
        "# Get Repo"
      ],
      "metadata": {
        "id": "uok9oZ7imghW"
      }
    },
    {
      "cell_type": "code",
      "execution_count": null,
      "metadata": {
        "id": "edvpXxdHW2Wd"
      },
      "outputs": [],
      "source": [
        "%cd \"/content/\"\n",
        "!rm -rf \"TPCV-CD\"\n",
        "!rm -rf \"chekpoint\"\n",
        "!git clone https://github.com/Msadr471/TPCV-CD\n",
        "!rm -r \"/content/Data/Dataset\"\n",
        "!chmod +x \"/content/TPCV-CD/req.sh\"\n",
        "!bash \"/content/TPCV-CD/req.sh\"\n",
        "%cd \"/content/TPCV-CD\"\n",
        "!rm -rf \"/content/chekpoint\"\n",
        "!mkdir \"/content/chekpoint\"\n",
        "!pwd"
      ]
    },
    {
      "cell_type": "markdown",
      "source": [
        "# Train"
      ],
      "metadata": {
        "id": "dPd8SRTumiR7"
      }
    },
    {
      "cell_type": "code",
      "source": [
        "!python training.py --datapath \"/content/Data/Dataset\" --log-path \"/content/chekpoint\""
      ],
      "metadata": {
        "id": "FccfWYDGnboe"
      },
      "execution_count": null,
      "outputs": []
    },
    {
      "cell_type": "markdown",
      "source": [
        "# Evaluation"
      ],
      "metadata": {
        "id": "gLp87VKV2zpt"
      }
    },
    {
      "cell_type": "code",
      "source": [
        "!cp \"/content/drive/MyDrive/GoogleColabDrive/RSCD/TPCV-CD-pth/model_47.pth\" /content/chekpoint"
      ],
      "metadata": {
        "id": "BIc1i9VA6DLB"
      },
      "execution_count": 9,
      "outputs": []
    },
    {
      "cell_type": "code",
      "source": [
        "!python test_ondata.py --datapath \"/content/Data/Dataset\" --modelpath \"/content/chekpoint/model_47.pth\""
      ],
      "metadata": {
        "id": "uFoZyYin5DvX",
        "colab": {
          "base_uri": "https://localhost:8080/"
        },
        "outputId": "eb110a36-2065-42d4-d488-ea4d98f30903"
      },
      "execution_count": 27,
      "outputs": [
        {
          "output_type": "stream",
          "name": "stdout",
          "text": [
            "\n",
            "Number of model parameters 285803\n",
            "\n",
            "100% 12/12 [00:15<00:00,  1.28s/it]\n",
            "Test summary\n",
            "Loss is 0.02553614415228367\n",
            "\n",
            "{'acc': np.float64(0.9921688731875081), 'miou': np.float64(0.9204946649008772), 'mf1': np.float64(0.9571636827337257), 'iou_0': np.float64(0.9918076468136124), 'iou_1': np.float64(0.849181682988142), 'F1_0': np.float64(0.9958869161285395), 'F1_1': np.float64(0.9184404493389118), 'precision_0': np.float64(0.9945657562197379), 'precision_1': np.float64(0.9432889683223311), 'recall_0': np.float64(0.9972117102337862), 'recall_1': np.float64(0.8948675831363895)}\n"
          ]
        }
      ]
    },
    {
      "cell_type": "markdown",
      "source": [
        "# Loss Landscape"
      ],
      "metadata": {
        "id": "qni-l2uY22YN"
      }
    },
    {
      "cell_type": "code",
      "source": [
        "!python loss_landscape_plot.py \\\n",
        "  --datapath \"/content/Data/Dataset\" \\\n",
        "  --modelpath \"/content/TPCV-CD/pretrained_models/model_47.pth\" \\\n",
        "  --steps 32 \\\n",
        "  --radius 5 \\\n",
        "  --subset_size 160 \\\n",
        "  --batch_size 160"
      ],
      "metadata": {
        "id": "Ik1J2dKwhI7b"
      },
      "execution_count": null,
      "outputs": []
    }
  ],
  "metadata": {
    "colab": {
      "provenance": [],
      "gpuType": "T4",
      "collapsed_sections": [
        "qni-l2uY22YN"
      ]
    },
    "kernelspec": {
      "display_name": "Python 3",
      "name": "python3"
    },
    "language_info": {
      "name": "python"
    },
    "accelerator": "GPU"
  },
  "nbformat": 4,
  "nbformat_minor": 0
}